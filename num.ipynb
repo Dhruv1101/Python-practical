{
 "cells": [
  {
   "cell_type": "code",
   "execution_count": 5,
   "metadata": {},
   "outputs": [
    {
     "name": "stdout",
     "output_type": "stream",
     "text": [
      "Enter Number 15\n",
      "The sum is 120\n"
     ]
    }
   ],
   "source": [
    "#Name = Dhruv_Gandhi\n",
    "#Enrollment_Number = 17SE02CE017\n",
    "#Assginment = 37->User defined modules (RecursiveFuntion)in python \n",
    "#call that user_function from another program\n",
    "import add\n",
    "a=int(input(\"Enter Number \" ))\n",
    "if a < 0:\n",
    "   print(\"Enter a positive number\")\n",
    "else:\n",
    "   print(\"The sum is\",add.recur_sum(a))"
   ]
  },
  {
   "cell_type": "code",
   "execution_count": null,
   "metadata": {},
   "outputs": [],
   "source": []
  }
 ],
 "metadata": {
  "kernelspec": {
   "display_name": "Python 3",
   "language": "python",
   "name": "python3"
  },
  "language_info": {
   "codemirror_mode": {
    "name": "ipython",
    "version": 3
   },
   "file_extension": ".py",
   "mimetype": "text/x-python",
   "name": "python",
   "nbconvert_exporter": "python",
   "pygments_lexer": "ipython3",
   "version": "3.7.3"
  }
 },
 "nbformat": 4,
 "nbformat_minor": 2
}
